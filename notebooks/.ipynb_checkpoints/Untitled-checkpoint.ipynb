{
 "cells": [
  {
   "cell_type": "markdown",
   "id": "b08876fe-5ebb-410d-83b8-3a0a207cb92e",
   "metadata": {},
   "source": [
    "PROJET ARBRE"
   ]
  },
  {
   "cell_type": "markdown",
   "id": "1dcf4727-976a-4a8b-8a51-ec82194feace",
   "metadata": {},
   "source": [
    "Itération 1"
   ]
  },
  {
   "cell_type": "markdown",
   "id": "abfa3178-a6ea-4fea-9d3f-b68715f1f5ca",
   "metadata": {},
   "source": [
    "1. Extraire l’ensemble des lignes (rows) et stocker ces informations dans une variable de type List "
   ]
  },
  {
   "cell_type": "code",
   "execution_count": 18,
   "id": "758d16c8-10ac-4f0d-8944-687c7ea2d042",
   "metadata": {},
   "outputs": [
    {
     "ename": "PermissionError",
     "evalue": "[Errno 13] Permission denied: 'C:/Users/thomas.joyeux/Desktop/Projet_arbre/data'",
     "output_type": "error",
     "traceback": [
      "\u001b[1;31m---------------------------------------------------------------------------\u001b[0m",
      "\u001b[1;31mPermissionError\u001b[0m                           Traceback (most recent call last)",
      "Cell \u001b[1;32mIn[18], line 11\u001b[0m\n\u001b[0;32m      7\u001b[0m     \u001b[38;5;28;01mreturn\u001b[39;00m data\n\u001b[0;32m      9\u001b[0m \u001b[38;5;66;03m# Renvoie une liste des lignes du fichier_csv\u001b[39;00m\n\u001b[1;32m---> 11\u001b[0m stock_ligne(\u001b[38;5;124m\"\u001b[39m\u001b[38;5;124mC:/Users/thomas.joyeux/Desktop/Projet_arbre/data\u001b[39m\u001b[38;5;124m\"\u001b[39m)\n",
      "Cell \u001b[1;32mIn[18], line 4\u001b[0m, in \u001b[0;36mstock_ligne\u001b[1;34m(fichier_csv)\u001b[0m\n\u001b[0;32m      3\u001b[0m \u001b[38;5;28;01mdef\u001b[39;00m \u001b[38;5;21mstock_ligne\u001b[39m(fichier_csv):\n\u001b[1;32m----> 4\u001b[0m     \u001b[38;5;28;01mwith\u001b[39;00m \u001b[38;5;28mopen\u001b[39m(fichier_csv, newline\u001b[38;5;241m=\u001b[39m\u001b[38;5;124m\"\u001b[39m\u001b[38;5;124m\"\u001b[39m) \u001b[38;5;28;01mas\u001b[39;00m f:\n\u001b[0;32m      5\u001b[0m         reader \u001b[38;5;241m=\u001b[39m csv\u001b[38;5;241m.\u001b[39mreader(f)\n\u001b[0;32m      6\u001b[0m         data \u001b[38;5;241m=\u001b[39m \u001b[38;5;28mlist\u001b[39m(reader)\n",
      "File \u001b[1;32m~\\AppData\\Local\\anaconda3\\Lib\\site-packages\\IPython\\core\\interactiveshell.py:310\u001b[0m, in \u001b[0;36m_modified_open\u001b[1;34m(file, *args, **kwargs)\u001b[0m\n\u001b[0;32m    303\u001b[0m \u001b[38;5;28;01mif\u001b[39;00m file \u001b[38;5;129;01min\u001b[39;00m {\u001b[38;5;241m0\u001b[39m, \u001b[38;5;241m1\u001b[39m, \u001b[38;5;241m2\u001b[39m}:\n\u001b[0;32m    304\u001b[0m     \u001b[38;5;28;01mraise\u001b[39;00m \u001b[38;5;167;01mValueError\u001b[39;00m(\n\u001b[0;32m    305\u001b[0m         \u001b[38;5;124mf\u001b[39m\u001b[38;5;124m\"\u001b[39m\u001b[38;5;124mIPython won\u001b[39m\u001b[38;5;124m'\u001b[39m\u001b[38;5;124mt let you open fd=\u001b[39m\u001b[38;5;132;01m{\u001b[39;00mfile\u001b[38;5;132;01m}\u001b[39;00m\u001b[38;5;124m by default \u001b[39m\u001b[38;5;124m\"\u001b[39m\n\u001b[0;32m    306\u001b[0m         \u001b[38;5;124m\"\u001b[39m\u001b[38;5;124mas it is likely to crash IPython. If you know what you are doing, \u001b[39m\u001b[38;5;124m\"\u001b[39m\n\u001b[0;32m    307\u001b[0m         \u001b[38;5;124m\"\u001b[39m\u001b[38;5;124myou can use builtins\u001b[39m\u001b[38;5;124m'\u001b[39m\u001b[38;5;124m open.\u001b[39m\u001b[38;5;124m\"\u001b[39m\n\u001b[0;32m    308\u001b[0m     )\n\u001b[1;32m--> 310\u001b[0m \u001b[38;5;28;01mreturn\u001b[39;00m io_open(file, \u001b[38;5;241m*\u001b[39margs, \u001b[38;5;241m*\u001b[39m\u001b[38;5;241m*\u001b[39mkwargs)\n",
      "\u001b[1;31mPermissionError\u001b[0m: [Errno 13] Permission denied: 'C:/Users/thomas.joyeux/Desktop/Projet_arbre/data'"
     ]
    }
   ],
   "source": [
    "import csv\n",
    "\n",
    "def stock_ligne(fichier_csv):\n",
    "    with open(fichier_csv, newline=\"\") as f:\n",
    "        reader = csv.reader(f)\n",
    "        data = list(reader)\n",
    "    return data\n",
    "\n",
    "# Renvoie une liste des lignes du fichier_csv\n",
    "\n",
    "stock_ligne(\"C:/Users/thomas.joyeux/Desktop/Projet_arbre/data\")"
   ]
  },
  {
   "cell_type": "markdown",
   "id": "27a2ebc7-2c44-4880-b6f2-91f987b50e8a",
   "metadata": {},
   "source": [
    "2. Afficher les deux premières lignes de ce csv. Que représentent elles ?\n"
   ]
  },
  {
   "cell_type": "code",
   "execution_count": 8,
   "id": "ebf13273-1549-44db-b3de-3d4ca23ea09d",
   "metadata": {},
   "outputs": [
    {
     "ename": "FileNotFoundError",
     "evalue": "[Errno 2] No such file or directory: 'data/trees.csv'",
     "output_type": "error",
     "traceback": [
      "\u001b[1;31m---------------------------------------------------------------------------\u001b[0m",
      "\u001b[1;31mFileNotFoundError\u001b[0m                         Traceback (most recent call last)",
      "Cell \u001b[1;32mIn[8], line 7\u001b[0m\n\u001b[0;32m      3\u001b[0m     \u001b[38;5;28;01mreturn\u001b[39;00m liste[n]\n\u001b[0;32m      5\u001b[0m \u001b[38;5;66;03m#retourne la ligne \"n\" du \"fichier_csv\"\u001b[39;00m\n\u001b[1;32m----> 7\u001b[0m \u001b[38;5;28mprint\u001b[39m(afficher_ligne(\u001b[38;5;124m\"\u001b[39m\u001b[38;5;124mdata/trees.csv\u001b[39m\u001b[38;5;124m\"\u001b[39m, \u001b[38;5;241m0\u001b[39m))\n\u001b[0;32m      8\u001b[0m \u001b[38;5;28mprint\u001b[39m(afficher_ligne(\u001b[38;5;124m\"\u001b[39m\u001b[38;5;124mdata/trees.csv\u001b[39m\u001b[38;5;124m\"\u001b[39m, \u001b[38;5;241m1\u001b[39m))\n",
      "Cell \u001b[1;32mIn[8], line 2\u001b[0m, in \u001b[0;36mafficher_ligne\u001b[1;34m(fichier_csv, n)\u001b[0m\n\u001b[0;32m      1\u001b[0m \u001b[38;5;28;01mdef\u001b[39;00m \u001b[38;5;21mafficher_ligne\u001b[39m(fichier_csv, n):\n\u001b[1;32m----> 2\u001b[0m     liste \u001b[38;5;241m=\u001b[39m stock_ligne(fichier_csv)\n\u001b[0;32m      3\u001b[0m     \u001b[38;5;28;01mreturn\u001b[39;00m liste[n]\n",
      "Cell \u001b[1;32mIn[4], line 4\u001b[0m, in \u001b[0;36mstock_ligne\u001b[1;34m(fichier_csv)\u001b[0m\n\u001b[0;32m      3\u001b[0m \u001b[38;5;28;01mdef\u001b[39;00m \u001b[38;5;21mstock_ligne\u001b[39m(fichier_csv):\n\u001b[1;32m----> 4\u001b[0m     \u001b[38;5;28;01mwith\u001b[39;00m \u001b[38;5;28mopen\u001b[39m(fichier_csv, newline\u001b[38;5;241m=\u001b[39m\u001b[38;5;124m\"\u001b[39m\u001b[38;5;124m\"\u001b[39m) \u001b[38;5;28;01mas\u001b[39;00m f:\n\u001b[0;32m      5\u001b[0m         reader \u001b[38;5;241m=\u001b[39m csv\u001b[38;5;241m.\u001b[39mreader(f)\n\u001b[0;32m      6\u001b[0m         data \u001b[38;5;241m=\u001b[39m \u001b[38;5;28mlist\u001b[39m(reader)\n",
      "File \u001b[1;32m~\\AppData\\Local\\anaconda3\\Lib\\site-packages\\IPython\\core\\interactiveshell.py:310\u001b[0m, in \u001b[0;36m_modified_open\u001b[1;34m(file, *args, **kwargs)\u001b[0m\n\u001b[0;32m    303\u001b[0m \u001b[38;5;28;01mif\u001b[39;00m file \u001b[38;5;129;01min\u001b[39;00m {\u001b[38;5;241m0\u001b[39m, \u001b[38;5;241m1\u001b[39m, \u001b[38;5;241m2\u001b[39m}:\n\u001b[0;32m    304\u001b[0m     \u001b[38;5;28;01mraise\u001b[39;00m \u001b[38;5;167;01mValueError\u001b[39;00m(\n\u001b[0;32m    305\u001b[0m         \u001b[38;5;124mf\u001b[39m\u001b[38;5;124m\"\u001b[39m\u001b[38;5;124mIPython won\u001b[39m\u001b[38;5;124m'\u001b[39m\u001b[38;5;124mt let you open fd=\u001b[39m\u001b[38;5;132;01m{\u001b[39;00mfile\u001b[38;5;132;01m}\u001b[39;00m\u001b[38;5;124m by default \u001b[39m\u001b[38;5;124m\"\u001b[39m\n\u001b[0;32m    306\u001b[0m         \u001b[38;5;124m\"\u001b[39m\u001b[38;5;124mas it is likely to crash IPython. If you know what you are doing, \u001b[39m\u001b[38;5;124m\"\u001b[39m\n\u001b[0;32m    307\u001b[0m         \u001b[38;5;124m\"\u001b[39m\u001b[38;5;124myou can use builtins\u001b[39m\u001b[38;5;124m'\u001b[39m\u001b[38;5;124m open.\u001b[39m\u001b[38;5;124m\"\u001b[39m\n\u001b[0;32m    308\u001b[0m     )\n\u001b[1;32m--> 310\u001b[0m \u001b[38;5;28;01mreturn\u001b[39;00m io_open(file, \u001b[38;5;241m*\u001b[39margs, \u001b[38;5;241m*\u001b[39m\u001b[38;5;241m*\u001b[39mkwargs)\n",
      "\u001b[1;31mFileNotFoundError\u001b[0m: [Errno 2] No such file or directory: 'data/trees.csv'"
     ]
    }
   ],
   "source": [
    "def afficher_ligne(fichier_csv, n):\n",
    "    liste = stock_ligne(fichier_csv)\n",
    "    return liste[n]\n",
    "\n",
    "# Retourne la ligne \"n\" du \"fichier_csv\"\n",
    "\n",
    "print(afficher_ligne(\"data/trees.csv\", 0))\n",
    "print(afficher_ligne(\"data/trees.csv\", 1))"
   ]
  },
  {
   "cell_type": "markdown",
   "id": "9c807631-375f-4525-9d78-cef8b37e987c",
   "metadata": {},
   "source": [
    "La première ligne correspond aux intitulés des colonnes du tableau que nous étudions.\n",
    "La deuxième ligne correspond aux informations du premier arbre de la liste."
   ]
  },
  {
   "cell_type": "markdown",
   "id": "e7372351-c71d-47ae-bb34-11948d4ec9cb",
   "metadata": {},
   "source": [
    "3. Afficher la 2ème colonne de chacune de ces deux lignes. "
   ]
  },
  {
   "cell_type": "code",
   "execution_count": null,
   "id": "bbdcadca-f250-46ea-a726-69d3c86e41ba",
   "metadata": {},
   "outputs": [],
   "source": [
    "def separer_string_liste(fichier_csv, n):\n",
    "    i = str(afficher_ligne(fichier_csv, n))\n",
    "    liste = i.split(\";\")\n",
    "    if n == 0:\n",
    "        f = open(\"info.txt\", \"w\")\n",
    "        for elm in liste:\n",
    "            f.write(f\"{elm}\\n\")\n",
    "        f.close()\n",
    "    return liste\n",
    "\n",
    "# Transforme la ligne \"n\" du \"Fichier_csv\" en liste (sep = \";\")\n",
    "# Si n=o, crée un fichier \"info.txt\" avec le nom de toutes les colonnes.\n",
    "\n",
    "def afficher_colonne(fichier_csv, n, c):\n",
    "    i = separer_string_liste(fichier_csv, n)\n",
    "    return i[c-1]\n",
    "\n",
    "# Retourne la colonne \"C\" de la ligne \"n\" du \"fichier_csv\"\n",
    "\n",
    "print(afficher_colonne(fichier_csv, 0, 1))\n",
    "print(afficher_colonne(fichier_csv, 1, 1))"
   ]
  },
  {
   "cell_type": "markdown",
   "id": "d9e60686-a4dd-4541-8021-dce252f06a12",
   "metadata": {},
   "source": [
    "4. Extraire l’information concernant l’année de plantation pour l’ensemble des lignes (rows) et stocker ces informations dans une autre variable de type List"
   ]
  },
  {
   "cell_type": "code",
   "execution_count": null,
   "id": "6f6e7c54-fb0c-4432-93af-cf2e46dfd1ef",
   "metadata": {},
   "outputs": [],
   "source": [
    "def index_colonne(fichier_csv, nom_colonne):\n",
    "    i = separer_string_liste(fichier_csv, 0)\n",
    "    for elm in i:\n",
    "        if elm == nom_colonne:\n",
    "            return i.index(elm)\n",
    "\n",
    "# Donne l'index de la colonne \"nom_colonne\" de \"fichier_csv\"\n",
    "# \"anneedeplantation\" ==> index 19\n",
    "# \"genre_bota\" ==> index 13\n",
    "# \"especes\" ==> index 14\n",
    "\n",
    "def extraire_all_colonne(fichier_csv, nom_colonne):\n",
    "    liste = stock_ligne(fichier_csv)\n",
    "    liste_annee = []\n",
    "    index_c = int(index_colonne(fichier_csv, nom_colonne))\n",
    "    for row in liste:\n",
    "        i = str(row)\n",
    "        i2 = i.split(\";\")\n",
    "        liste_annee.append(i2[index_c])\n",
    "    return liste_annee\n",
    "\n",
    "# Renvoie une liste des elements de la colonne \"nom_colonne\" du \"fichier_csv\"\n",
    "    \n",
    "print(extraire_all_colonne(\"data/trees.csv\", \"anneedeplantation\"))"
   ]
  },
  {
   "cell_type": "markdown",
   "id": "bc3c683a-6356-409d-a4c9-31eb5dcff80b",
   "metadata": {},
   "source": [
    "5. Afficher les 50 premières lignes et les 50 dernières lignes de cette liste.\n"
   ]
  },
  {
   "cell_type": "code",
   "execution_count": null,
   "id": "4cc98ac5-dc0b-4466-9a30-89ec67fa8cdc",
   "metadata": {},
   "outputs": [],
   "source": [
    "def afficher_50_premières_dernières(fichier_csv, nom_colonne):\n",
    "    liste = extraire_all_colonne(fichier_csv, nom_colonne)\n",
    "    l1 = liste[0:50]\n",
    "    long = int(len(liste))\n",
    "    l2 = liste[long-50:long]\n",
    "    l3 = l1 + l2\n",
    "    return l3\n",
    "\n",
    "# Affiche les 50 premiers & 50 derniers elements de la colonne \"nom_colonne\"\n",
    "\n",
    "print(afficher_50_premières_dernières(\"data/trees.csv\", \"anneedeplantation\"))"
   ]
  },
  {
   "cell_type": "markdown",
   "id": "9c9fbf80-f795-40fc-b823-2a669b0d15a4",
   "metadata": {},
   "source": [
    "6. Combien d’arbres sont recensés dans ce jeu de données ?\n"
   ]
  },
  {
   "cell_type": "markdown",
   "id": "7deadf37-fd07-4ccc-acd2-46f9455327dc",
   "metadata": {},
   "source": [
    "Il y a 31 826 arbres reférencés dans le fichier \"trees.csv\""
   ]
  },
  {
   "cell_type": "markdown",
   "id": "a00fa51c-e9b9-4f1d-ab27-82705c889a2b",
   "metadata": {},
   "source": [
    "7. Pour combien d’arbres manque-t-il l’information concernant la date de plantation ? (Vous pouvez essayer de le faire d’au moins deux manières différentes.)"
   ]
  },
  {
   "cell_type": "code",
   "execution_count": null,
   "id": "37513d15-b271-40e1-8106-cec5457409e9",
   "metadata": {},
   "outputs": [],
   "source": [
    "def date_manquante(fichier_csv, nom_colonne, annee):\n",
    "    liste = extraire_all_colonne(fichier_csv, nom_colonne)\n",
    "    count = 0\n",
    "    for elm in liste:\n",
    "        if elm == annee:\n",
    "            count +=1\n",
    "    return count\n",
    "\n",
    "def date_manquante2(fichier_csv, nom_colonne, annee):\n",
    "    liste = extraire_all_colonne(fichier_csv, nom_colonne)\n",
    "    count = liste.count(annee)\n",
    "    return count\n",
    "\n",
    "# Retourne le nombre d'élément dont la colonne \"nom_colonne\" vaut \"annee\".\n",
    "\n",
    "print(date_manquante(\"data/trees.csv\", \"anneedeplantation\", \"\"))"
   ]
  },
  {
   "cell_type": "markdown",
   "id": "04fe2605-5bb0-40ee-b309-d59402260202",
   "metadata": {},
   "source": [
    "8. Combien d’arbres ont été plantés l’année de votre naissance ? (1993)"
   ]
  },
  {
   "cell_type": "code",
   "execution_count": null,
   "id": "ca9219e0-97a7-483c-8e6c-bf4150decfb3",
   "metadata": {},
   "outputs": [],
   "source": [
    "print(date_manquante(\"data/trees.csv\", \"anneedeplantation\", \"1993\"))"
   ]
  },
  {
   "cell_type": "markdown",
   "id": "3c53b2ae-31a2-4d37-ae94-a4e9ba733af5",
   "metadata": {},
   "source": [
    "9. Quelle est la plus ancienne année de plantation recensée dans ce dataset ? La plus récente ?    "
   ]
  },
  {
   "cell_type": "code",
   "execution_count": null,
   "id": "493f53a8-e65d-496f-bdbc-85f0c4ad7518",
   "metadata": {},
   "outputs": [],
   "source": [
    "def date_ancienne_recente(fichier_csv):\n",
    "    liste = extraire_all_colonne(fichier_csv, \"anneedeplantation\")\n",
    "    ancienne = int(liste[1])\n",
    "    recente = int(liste[1])\n",
    "    for elm in liste[1:len(liste)+1]:\n",
    "            if elm != \"\":\n",
    "                if int(elm) < int(ancienne):\n",
    "                    ancienne = elm\n",
    "                if int(elm) > int(recente):\n",
    "                    recente = elm\n",
    "    return ancienne, recente\n",
    "\n",
    "# Retourne la date de plantation la plus ancienne et la plus récente des arbres référencés dans \"fichier_csv\"\n",
    "\n",
    "print(date_ancienne_recente(\"data/trees.csv\"))"
   ]
  },
  {
   "cell_type": "markdown",
   "id": "b868e155-c6c4-4d38-9e36-1f2342d38ece",
   "metadata": {},
   "source": [
    "10. Combien d’arbres ont été plantés année par année (ex : 1987 : 771, 1988 : 266, etc…) ?"
   ]
  },
  {
   "cell_type": "code",
   "execution_count": null,
   "id": "d26d7c62-67d5-47a1-9f0a-9814931377a5",
   "metadata": {},
   "outputs": [],
   "source": [
    "def plante_par_annee(fichier_csv):\n",
    "    liste = extraire_all_colonne(fichier_csv, \"anneedeplantation\")\n",
    "    dico = {}\n",
    "    for elm in liste[1:len(liste)+1]:\n",
    "        if elm not in dico:\n",
    "            dico[elm] = 1\n",
    "        else:\n",
    "            dico[elm] += 1\n",
    "    return dico\n",
    "\n",
    "# Comptabilise le nombre d'arbres plantés chaque année.\n",
    "\n",
    "print(plante_par_annee(\"data/trees.csv\"))"
   ]
  },
  {
   "cell_type": "markdown",
   "id": "20e0cb83-b266-45ca-9acb-b2fef92fe74f",
   "metadata": {},
   "source": [
    "11. Combien d’arbres ont été plantés en moyenne chaque année ?   "
   ]
  },
  {
   "cell_type": "code",
   "execution_count": null,
   "id": "e472be9c-5d6e-4ad6-84a0-54c757bf373f",
   "metadata": {},
   "outputs": [],
   "source": [
    "def moyenne_par_annee(fichier_csv):\n",
    "    dico = plante_par_annee(fichier_csv)\n",
    "    liste = []\n",
    "    for key in dico:\n",
    "        value = dico[key]\n",
    "        liste.append(value)\n",
    "    moyenne = int(sum(liste)/len(liste))\n",
    "    return moyenne\n",
    "\n",
    "# Donne la moyenne d'arbre plantés chaque année.\n",
    "\n",
    "print(moyenne_par_annee(\"data/trees.csv\"))"
   ]
  },
  {
   "cell_type": "markdown",
   "id": "441d8e17-255b-4cff-8457-bff5ffcf95f3",
   "metadata": {},
   "source": [
    "12. Stocker conjointement l’année de plantation et le nombre d’arbres plantés dans un tuple. Les tuples seront stockés dans une liste."
   ]
  },
  {
   "cell_type": "code",
   "execution_count": null,
   "id": "9d37b52a-8e7f-4b36-b0c9-e2ff9412b356",
   "metadata": {},
   "outputs": [],
   "source": [
    "def liste_tuple(fichier_csv):\n",
    "    dico = plante_par_annee(fichier_csv)\n",
    "    liste = []\n",
    "    for key in dico:\n",
    "        value = dico[key]\n",
    "        liste.append((key, value))\n",
    "    return liste\n",
    "\n",
    "# Renvoie une liste composée de tuples (\"anneedeplantation\", \"Nbr_arbre_plantés\")\n",
    "\n",
    "print(liste_tuple(\"data/trees.csv\"))"
   ]
  },
  {
   "cell_type": "markdown",
   "id": "5dc80411-e198-4e8f-bf4f-9a0c763adbc9",
   "metadata": {},
   "source": [
    "13. Quel maire a planté le plus d’arbres à Grenoble ?"
   ]
  },
  {
   "cell_type": "markdown",
   "id": "4a0f31bb-5a75-4e74-a547-eba9d4c8bf8d",
   "metadata": {},
   "source": [
    "QUESTION A FAIRE"
   ]
  },
  {
   "cell_type": "markdown",
   "id": "47fd88e0-f71d-41d2-a9f1-3a50bd3c4b8c",
   "metadata": {},
   "source": [
    "14. Récupérez maintenant l’information concernant le genre botanique et la stocker conjointement avec l’année de plantation dans un tuple. Les tuples seront stockés dans une liste."
   ]
  },
  {
   "cell_type": "code",
   "execution_count": null,
   "id": "13bdea51-3539-4a2f-86f8-89c827e759ae",
   "metadata": {},
   "outputs": [],
   "source": [
    "def genre_annee(fichier_csv):\n",
    "    liste = stock_ligne(fichier_csv)\n",
    "    liste_genre_annee = []\n",
    "    for elm in liste:\n",
    "        i = str(elm)\n",
    "        liste_elm = i.split(\";\")\n",
    "        liste_genre_annee.append((liste_elm[19], liste_elm[13]))\n",
    "    return liste_genre_annee\n",
    "\n",
    "# Renvoie une liste composée de tuples (\"anneedeplantation\", \"genre_bota\")\n",
    "\n",
    "print(genre_annee(\"data/trees.csv\"))"
   ]
  },
  {
   "cell_type": "markdown",
   "id": "62135ab6-3e78-4b04-8779-cf61a42bdf7a",
   "metadata": {},
   "source": [
    "15. Pour combien d'arbres manque-t-il l’information concernant le genre botanique ?"
   ]
  },
  {
   "cell_type": "code",
   "execution_count": null,
   "id": "f7d7882d-06c0-44cb-b645-0f9688c0a074",
   "metadata": {},
   "outputs": [],
   "source": [
    "def info_manquante(fichier_csv, nom_colonne):\n",
    "    liste = extraire_all_colonne(fichier_csv, nom_colonne)\n",
    "    count = liste.count(\"\")\n",
    "    return count\n",
    "\n",
    "# Renvoie le nombre d'information manquante pour la colonne \"nom_colonne\"\n",
    "\n",
    "print(info_manquante(\"data/trees.csv\", \"genre_bota\"))"
   ]
  },
  {
   "cell_type": "markdown",
   "id": "4ce2a6d2-f494-47e5-98c0-f8c3d3d85bbd",
   "metadata": {},
   "source": [
    "16. Utilisez Matplotlib pour tracer l’histogramme représentant le nombre d’arbres plantés par année."
   ]
  },
  {
   "cell_type": "markdown",
   "id": "e4ea43c3-3bd3-4158-814f-4a739b1be6c0",
   "metadata": {},
   "source": [
    "QUESTION A FAIRE"
   ]
  },
  {
   "cell_type": "markdown",
   "id": "a0ce0bf0-1d81-4902-862c-71f62503d801",
   "metadata": {},
   "source": [
    "17. Triez les tuples (année, genre_botanique) en fonction de l’année de plantation par ordre décroissant."
   ]
  },
  {
   "cell_type": "code",
   "execution_count": null,
   "id": "94224af4-ce25-42e9-a887-0dfb26293909",
   "metadata": {},
   "outputs": [],
   "source": [
    "def tri_genre_annee(fichier_csv):\n",
    "    liste = genre_annee(fichier_csv)\n",
    "    liste_tri = sorted(liste, key = lambda x: x[0], reverse = True)\n",
    "    return liste_tri\n",
    "\n",
    "print(tri_genre_annee(\"data/trees.csv\")"
   ]
  },
  {
   "cell_type": "markdown",
   "id": "db6cd649-19b1-4ad9-8fff-c0ad06ad997f",
   "metadata": {},
   "source": [
    "Itération 2"
   ]
  },
  {
   "cell_type": "markdown",
   "id": "b22f8e46-8470-4308-b940-2c654717e464",
   "metadata": {},
   "source": [
    "1. Pour commencer, identifiez tous les genres botaniques représentés à Grenoble. Combien y en a-t-il ?  Essayez plusieurs manières de résoudre ce problème. "
   ]
  },
  {
   "cell_type": "code",
   "execution_count": null,
   "id": "6e621510-e8f5-46f8-ad06-e5941ab90295",
   "metadata": {},
   "outputs": [],
   "source": [
    "def nbr_elm_diff(fichier_csv, nom_colonne):\n",
    "    liste = extraire_all_colonne(fichier_csv, nom_colonne)\n",
    "    liste_genre = []\n",
    "    for elm in liste:\n",
    "        if elm not in liste_genre and elm != \"\":\n",
    "            liste_genre.append(elm)\n",
    "    return liste_genre\n",
    "\n",
    "#renvoie une liste de tous les éléments différents de la colonne \"nom_colonne\"\n",
    "\n",
    "print(nbr_elm_diff(\"data/trees.csv\", \"genre_bota\"))\n",
    "print(f\"Il y a {len(nbr_elm_diff(\"data/trees.csv\", \"genre_bota\"))} genres botaniques différents\")"
   ]
  },
  {
   "cell_type": "markdown",
   "id": "c21ecd1b-5d12-4913-81ac-279c9c969d12",
   "metadata": {},
   "source": [
    "2. Identifiez maintenant toutes les espèces différentes présentes à Grenoble. N’oubliez pas que les espèces sont une sous catégorie de genre botanique ! (l’espèce est ‘Platanus Acerifolia’ et pas uniquement ‘Acerifolia’) "
   ]
  },
  {
   "cell_type": "code",
   "execution_count": null,
   "id": "29dee5cd-62db-49dc-a6ab-46a537179de9",
   "metadata": {},
   "outputs": [],
   "source": [
    "print(nbr_elm_diff(\"data/trees.csv\", \"espece\"))\n",
    "print(f\"Il y a {len(nbr_elm_diff(\"data/trees.csv\", \"espece\"))} espèces différentes\")"
   ]
  },
  {
   "cell_type": "markdown",
   "id": "db9defbb-3809-434b-8dae-6046555d722f",
   "metadata": {},
   "source": [
    "3. En utilisant la structure de données Dict compter le nombre de représentants de chaque genre botanique."
   ]
  },
  {
   "cell_type": "code",
   "execution_count": null,
   "id": "211a582a-5d28-459b-ba43-3fc84ff3695e",
   "metadata": {},
   "outputs": [],
   "source": [
    "def nbr_elem_par_colonne(fichier_csv, nom_colonne):\n",
    "    liste = extraire_all_colonne(fichier_csv, nom_colonne)\n",
    "    dico = {}\n",
    "    for elm in liste[1:len(liste)+1]:\n",
    "        if elm not in dico:\n",
    "            dico[elm] = 1\n",
    "        else:\n",
    "            dico[elm] += 1\n",
    "    return dico\n",
    "\n",
    "# Comptabilise le nombre d'arbres pour chaque éléements différents de la colonne \"nom_colonne\" sous forme de dictionnaire\n",
    "\n",
    "print(nbr_elem_par_colonne(\"data/trees.csv\", \"genre_bota\"))"
   ]
  },
  {
   "cell_type": "markdown",
   "id": "876f63e9-c73b-40fc-9a65-c5c1584ca440",
   "metadata": {},
   "source": [
    "4. Quel est le genre botanique le plus représenté ?"
   ]
  },
  {
   "cell_type": "code",
   "execution_count": null,
   "id": "d84469ff-8316-4c3e-979f-b9102a8c12be",
   "metadata": {},
   "outputs": [],
   "source": [
    "def le_plus_represente(fichier_csv, nom_colonne):\n",
    "    dico = nbr_elem_par_colonne(fichier_csv, nom_colonne)\n",
    "    genre = \"\"\n",
    "    nbr = 0\n",
    "    for key in dico:\n",
    "        value = dico[key]\n",
    "        if value > nbr:\n",
    "            genre = key\n",
    "            nbr = value\n",
    "    return genre, nbr\n",
    "\n",
    "# Permet de connaitre l'élement le plus représenté de la colonne \"nom_colonne\" et son nombre de représentants.\n",
    "\n",
    "print(le_plus_represente(\"data/trees.csv\", \"genre_bota\"))"
   ]
  },
  {
   "cell_type": "markdown",
   "id": "dfbbcb44-2b14-4b17-9936-abfe161829c7",
   "metadata": {},
   "source": [
    "5. Listez tous les représentants uniques de leurs genre botanique."
   ]
  },
  {
   "cell_type": "markdown",
   "id": "279ff9dd-c3e9-4173-a60f-4268d0e05e36",
   "metadata": {},
   "source": [
    "PAKOMPRI"
   ]
  },
  {
   "cell_type": "markdown",
   "id": "adddddd5-8728-4c7a-b6b8-7aad2d37a2d2",
   "metadata": {},
   "source": [
    "6. Classer tous les genres botaniques en fonction de leur nombre (ordre décroissant)."
   ]
  },
  {
   "cell_type": "code",
   "execution_count": null,
   "id": "bae7edb3-a343-445a-89f5-4ee4416b0ed3",
   "metadata": {},
   "outputs": [],
   "source": [
    "def tri_decroissant_nombre_elm(fichier_csv, nom_colonne):\n",
    "    dico = nbr_elem_par_colonne(fichier_csv, nom_colonne)\n",
    "    tri = dict(sorted(dico.items(), key = lambda item: item[1], reverse = True))\n",
    "    return tri\n",
    "\n",
    "# Retourne le dictionnaire ordonné de façon décroissante de représentant de \"nom_colonne\".\n",
    "\n",
    "print(tri_decroissant_nombre_elm(\"data/trees.csv\", \"genre_bota\"))"
   ]
  },
  {
   "cell_type": "markdown",
   "id": "d7a31339-bcf4-4cb0-84ee-0cecbd54b5c1",
   "metadata": {},
   "source": [
    "7. Quelle est la proportion du genre botanique le plus représenté parmi tous les genres ?\n",
    "   Quelle est la proportion de chacun des genres botaniques par rapport au total ?\n",
    "   Idem précédemment mais en comptant les espèces. "
   ]
  },
  {
   "cell_type": "code",
   "execution_count": null,
   "id": "13f8f1c3-d15f-4538-b90c-0bd3dd8f2ce6",
   "metadata": {},
   "outputs": [],
   "source": [
    "def tri_proportion(fichier_csv, nom_colonne):\n",
    "    dico = tri_decroissant_nombre_elm(fichier_csv, nom_colonne)\n",
    "    for key in dico:\n",
    "        value = dico[key]\n",
    "        dico[key] = round((value*100/31826), 2)\n",
    "    return dico\n",
    "\n",
    "# Retourne le dictionnaire de la proportion de chaque élement de \"nom_colonne\" par rapport au total, par ordre décroissant.\n",
    "\n",
    "print(tri_proportion(\"data/trees.csv\", \"genre_bota\"))\n",
    "print(tri_proportion(\"data/trees.csv\", \"espece\"))"
   ]
  },
  {
   "cell_type": "markdown",
   "id": "ac4cee93-fa8d-4988-ac4a-7f8dfd97d8c7",
   "metadata": {},
   "source": [
    "- Le genre le plus représenté est Acer, avec une proportion de 15,86%   (< 20%)\r",
    "- LL'espèce la plus représentée est acerifolia, avec un proportion de 11.8 %   (> 10%)- \n",
    "#Selon les règles de diversité, il ne doit pas y avoir plus de 10% d'une espèce, les objectifs de la métro ne sont donc pas respectés en termes de diversité."
   ]
  }
 ],
 "metadata": {
  "kernelspec": {
   "display_name": "Python 3 (ipykernel)",
   "language": "python",
   "name": "python3"
  },
  "language_info": {
   "codemirror_mode": {
    "name": "ipython",
    "version": 3
   },
   "file_extension": ".py",
   "mimetype": "text/x-python",
   "name": "python",
   "nbconvert_exporter": "python",
   "pygments_lexer": "ipython3",
   "version": "3.11.7"
  }
 },
 "nbformat": 4,
 "nbformat_minor": 5
}
